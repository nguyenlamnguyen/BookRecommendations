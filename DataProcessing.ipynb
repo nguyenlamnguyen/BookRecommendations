{
  "cells": [
    {
      "cell_type": "code",
      "execution_count": null,
      "metadata": {
        "id": "LJwRYTowez3l"
      },
      "outputs": [],
      "source": [
        "import requests\n",
        "from bs4 import BeautifulSoup\n",
        "from urllib.parse import urljoin\n",
        "import pandas as pd\n",
        "import pickle"
      ]
    },
    {
      "cell_type": "code",
      "execution_count": null,
      "metadata": {
        "id": "kf0bpklWyifI"
      },
      "outputs": [],
      "source": [
        "full_data = []"
      ]
    },
    {
      "cell_type": "code",
      "execution_count": null,
      "metadata": {
        "id": "lnmVEuRqfvLH"
      },
      "outputs": [],
      "source": [
        "# function to extract data from a book's page on the website\n",
        "def get_book_info(url):\n",
        "    page = requests.get(url)\n",
        "    soup = BeautifulSoup(page.content, 'html.parser')\n",
        "    # text_stack = soup.find('div', {'id': 'description'})\n",
        "    # text_stack.i.extract()\n",
        "\n",
        "    data = {'title': soup.find('h1', {'class': 'gr-h1 gr-h1--serif'}).text.replace('\\n', '').strip(),\n",
        "            'author': soup.find('a', {'class': 'authorName'}).text.replace('\\n', ' ').strip(),\n",
        "            'summary': soup.find('span', {'id': lambda x: x and (x.startswith('freeText') and  not x.startswith('freeTextContainer'))}).text.replace('\\n', ' '),\n",
        "             'image': soup.find('img', {'id': 'coverImage'})['src']\n",
        "            }\n",
        "    return data"
      ]
    },
    {
      "cell_type": "code",
      "execution_count": null,
      "metadata": {
        "colab": {
          "base_uri": "https://localhost:8080/"
        },
        "id": "qGQG_QSfhaLJ",
        "outputId": "fecf655d-809d-49ed-f56d-3d0c61aad7fd"
      },
      "outputs": [
        {
          "name": "stdout",
          "output_type": "stream",
          "text": [
            "Processing page  41\n",
            "Processing page  42\n",
            "Processing page  43\n",
            "Processing page  44\n",
            "Processing page  45\n",
            "Processing page  46\n",
            "Processing page  47\n",
            "Processing page  48\n",
            "Processing page  49\n",
            "Processing page  50\n",
            "Processing page  51\n",
            "Processing page  52\n",
            "Processing page  53\n",
            "Processing page  54\n",
            "Processing page  55\n",
            "Processing page  56\n",
            "Processing page  57\n",
            "Processing page  58\n",
            "Processing page  59\n",
            "Processing page  60\n"
          ]
        }
      ],
      "source": [
        "# get books from goodreads' best book ever list\n",
        "for page in range(1,101):\n",
        "    print(\"Processing page \",page)\n",
        "    page = requests.get('https://www.goodreads.com/list/show/1.Best_Books_Ever?page={}'.format(page))\n",
        "    soup = BeautifulSoup(page.content, 'html.parser')\n",
        "    for book in soup.find_all('a', {'class': 'bookTitle'}):\n",
        "        base_url = 'https://www.goodreads.com'\n",
        "        url = base_url + book['href']\n",
        "        try:\n",
        "            full_data.append(get_book_info(url))\n",
        "        except Exception as e:\n",
        "            pass\n",
        "print(\"Done\")"
      ]
    },
    {
      "cell_type": "code",
      "execution_count": null,
      "metadata": {
        "id": "9Q7f8Rxw4whS"
      },
      "outputs": [],
      "source": [
        "# Save raw data\n",
        "with open('raw_full.pkl', 'wb') as f:\n",
        "    pickle.dump(full_data, f)"
      ]
    },
    {
      "cell_type": "code",
      "execution_count": null,
      "metadata": {
        "colab": {
          "base_uri": "https://localhost:8080/"
        },
        "id": "n6OHK4QTichd",
        "outputId": "fa1d429b-a4ea-4df7-d581-36a43b54fd7f"
      },
      "outputs": [
        {
          "data": {
            "text/plain": [
              "{'title': 'To Kill a Mockingbird',\n",
              " 'author': 'Harper Lee',\n",
              " 'summary': 'The unforgettable novel of a childhood in a sleepy Southern town and the crisis of conscience that rocked it. \"To Kill A Mockingbird\" became both an instant bestseller and a critical success when it was first published in 1960. It went on to win the Pulitzer Prize in 1961 and was later made into an Academy Award-winning film, also a classic.Compassionate, dramatic, and deeply moving, \"To Kill A Mockingbird\" takes readers to the roots of human behavior - to innocence and experience, kindness and cruelty, love and hatred, humor and pathos. Now with over 18 million copies in print and translated into forty languages, this regional story by a young Alabama woman claims universal appeal. Harper Lee always considered her book to be a simple love story. Today it is regarded as a masterpiece of American literature.',\n",
              " 'image': 'https://i.gr-assets.com/images/S/compressed.photo.goodreads.com/books/1553383690l/2657.jpg'}"
            ]
          },
          "execution_count": 41,
          "metadata": {},
          "output_type": "execute_result"
        }
      ],
      "source": [
        "full_data[1]"
      ]
    },
    {
      "cell_type": "code",
      "source": [
        "# Load raw data\n",
        "with open('raw_full.pkl', 'rb') as f:\n",
        "  clean_full = pickle.load(f)"
      ],
      "metadata": {
        "id": "gly1pVGxjt1o"
      },
      "execution_count": null,
      "outputs": []
    },
    {
      "cell_type": "code",
      "execution_count": null,
      "metadata": {
        "id": "_hbDPmraQp-Z",
        "colab": {
          "base_uri": "https://localhost:8080/"
        },
        "outputId": "aa720b34-f52f-480e-9d83-28f7c48fa6ad"
      },
      "outputs": [
        {
          "output_type": "execute_result",
          "data": {
            "text/plain": [
              "{'title': 'Far from the Tree',\n",
              " 'author': 'Robin Benway',\n",
              " 'summary': 'Being the middle child has its ups and downs.But for Grace, an only child who was adopted at birth, discovering that she is a middle child is a different ride altogether. After putting her own baby up for adoption, she goes looking for her biological family, including—Maya, her loudmouthed younger bio sister, who has a lot to say about their newfound family ties. Having grown up the snarky brunette in a house full of chipper redheads, she’s quick to search for traces of herself among these not-quite-strangers. And when her adopted family’s long-buried problems begin to explode to the surface, Maya can’t help but wonder where exactly it is that she belongs.And Joaquin, their stoic older bio brother, who has no interest in bonding over their shared biological mother. After seventeen years in the foster care system, he’s learned that there are no heroes, and secrets and fears are best kept close to the vest, where they can’t hurt anyone but him.',\n",
              " 'image': 'https://i.gr-assets.com/images/S/compressed.photo.goodreads.com/books/1501680687l/33830437._SY475_.jpg'}"
            ]
          },
          "metadata": {},
          "execution_count": 65
        }
      ],
      "source": [
        "raw_full[-1]"
      ]
    },
    {
      "cell_type": "markdown",
      "metadata": {
        "id": "nr4WBnkIc57P"
      },
      "source": [
        "## Data cleaning"
      ]
    },
    {
      "cell_type": "code",
      "execution_count": null,
      "metadata": {
        "id": "pITe-K0DotG4"
      },
      "outputs": [],
      "source": [
        "clean_full = []"
      ]
    },
    {
      "cell_type": "code",
      "execution_count": null,
      "metadata": {
        "id": "RDy-8yrdYETs"
      },
      "outputs": [],
      "source": [
        "# Remove librarian notes\n",
        "for i in range(len(raw_full)):\n",
        "  if (('Librarian\\'s note:' in raw_full[i]['summary']) or ('Librarian note:' in raw_full[i]['summary'])):\n",
        "    raw_full[i]['summary'] = '.'.join(raw_full[i]['summary'].split('.')[1:]).strip()"
      ]
    },
    {
      "cell_type": "code",
      "source": [
        "# Remove (back cover)\n",
        "for i in range(len(raw_full)):\n",
        "  if ('(back cover' in raw_full[i]['summary']):\n",
        "    raw_full[i]['summary'] = '.'.join(raw_full[i]['summary'].split('.')[:-1]).strip()"
      ],
      "metadata": {
        "id": "oKnCzatoihwH"
      },
      "execution_count": null,
      "outputs": []
    },
    {
      "cell_type": "code",
      "source": [
        "raw_full[8]"
      ],
      "metadata": {
        "colab": {
          "base_uri": "https://localhost:8080/"
        },
        "id": "xXbZ7U0Hhhxw",
        "outputId": "1346d93c-3318-4b78-a1b5-c4bd48224308"
      },
      "execution_count": null,
      "outputs": [
        {
          "output_type": "execute_result",
          "data": {
            "text/plain": [
              "{'title': 'The Perks of Being a Wallflower',\n",
              " 'author': 'Stephen Chbosky',\n",
              " 'summary': \"standing on the fringes of life...offers a unique perspective. But there comes a time to seewhat it looks like from the dance floor.This haunting novel about the dilemma of passivity vs. passion marks the stunning debut of a provocative new voice in contemporary fiction: The Perks of Being A WALLFLOWERThis is the story of what it's like to grow up in high school. More intimate than a diary, Charlie's letters are singular and unique, hilarious and devastating. We may not know where he lives. We may not know to whom he is writing. All we know is the world he shares. Caught between trying to live his life and trying to run from it puts him on a strange course through uncharted territory. The world of first dates and mixed tapes, family dramas and new friends. The world of sex, drugs, and The Rocky Horror Picture Show, when all one requires is that the perfect song on that perfect drive to feel infinite.Through Charlie, Stephen Chbosky has created a deeply affecting coming-of-age story, a powerful novel that will spirit you back to those wild and poignant roller coaster days known as growing up\",\n",
              " 'image': 'https://i.gr-assets.com/images/S/compressed.photo.goodreads.com/books/1650033115l/22628._SX318_.jpg'}"
            ]
          },
          "metadata": {},
          "execution_count": 83
        }
      ]
    },
    {
      "cell_type": "code",
      "execution_count": null,
      "metadata": {
        "id": "zB8uIoNjnzaG"
      },
      "outputs": [],
      "source": [
        "# Save cleaned data\n",
        "import pickle\n",
        "\n",
        "with open('clean_full.pkl', 'wb') as f:\n",
        "    pickle.dump(raw_full, f)"
      ]
    },
    {
      "cell_type": "markdown",
      "metadata": {
        "id": "T_c4p4DSJpIW"
      },
      "source": [
        "## Encode description of books using tensorflow"
      ]
    },
    {
      "cell_type": "code",
      "execution_count": null,
      "metadata": {
        "colab": {
          "base_uri": "https://localhost:8080/"
        },
        "id": "fj2k2O1Dqjoz",
        "outputId": "046b1339-4fa6-41b5-8a77-8b15502d707b"
      },
      "outputs": [
        {
          "output_type": "execute_result",
          "data": {
            "text/plain": [
              "4989"
            ]
          },
          "metadata": {},
          "execution_count": 1
        }
      ],
      "source": [
        "with open('clean_full.pkl', 'rb') as f:\n",
        "  clean_full = pickle.load(f)\n",
        "len(clean_full)"
      ]
    },
    {
      "cell_type": "code",
      "execution_count": null,
      "metadata": {
        "id": "Q5el0ZpDJpj6"
      },
      "outputs": [],
      "source": [
        "import tensorflow_hub as hub\n",
        "import tensorflow_text"
      ]
    },
    {
      "cell_type": "code",
      "execution_count": null,
      "metadata": {
        "id": "eNwtZcqxoXH7"
      },
      "outputs": [],
      "source": [
        "embedding_model = hub.load(\"https://tfhub.dev/google/universal-sentence-encoder-multilingual/3\")"
      ]
    },
    {
      "cell_type": "code",
      "execution_count": null,
      "metadata": {
        "id": "Z0vf7tInojyZ"
      },
      "outputs": [],
      "source": [
        "# add vectors to the data\n",
        "for element in clean_full:\n",
        "    element['vector'] = embedding_model(element['summary'])[0]"
      ]
    },
    {
      "cell_type": "code",
      "source": [
        "with open('clean_full_embedded.pkl', 'wb') as f:\n",
        "    pickle.dump(clean_full, f)"
      ],
      "metadata": {
        "id": "njnC57dwlNye"
      },
      "execution_count": null,
      "outputs": []
    },
    {
      "cell_type": "markdown",
      "metadata": {
        "id": "MLM3H2i7q2wP"
      },
      "source": [
        "## Nearest neighbors with Cosine similarity"
      ]
    },
    {
      "cell_type": "code",
      "execution_count": null,
      "metadata": {
        "id": "x2XRcMmTq62q"
      },
      "outputs": [],
      "source": [
        "import numpy as np\n",
        "from sklearn.metrics.pairwise import cosine_similarity"
      ]
    },
    {
      "cell_type": "code",
      "execution_count": null,
      "metadata": {
        "id": "T_yjrVk9q_u3"
      },
      "outputs": [],
      "source": [
        "vectors = [item['vector'] for item in clean_full]\n",
        "X = np.array(vectors)"
      ]
    },
    {
      "cell_type": "code",
      "execution_count": null,
      "metadata": {
        "id": "85ns9UXmr3Yt"
      },
      "outputs": [],
      "source": [
        "# calculate similarity based on cosine distance\n",
        "cos_sim = cosine_similarity(X)\n",
        "cos_indices = np.vstack([np.argsort(-arr) for arr in cos_sim])"
      ]
    },
    {
      "cell_type": "code",
      "execution_count": null,
      "metadata": {
        "id": "62U7d0q_sOUC"
      },
      "outputs": [],
      "source": [
        "# find most similar books for each case\n",
        "for i, book in enumerate(clean_full):\n",
        "    book['cosine'] = cos_indices[i][1:21]"
      ]
    },
    {
      "cell_type": "code",
      "execution_count": null,
      "metadata": {
        "id": "JhEsQAkrsTlp"
      },
      "outputs": [],
      "source": [
        "# remove vectors from dict\n",
        "for book in clean_full:\n",
        "    book.pop('vector')"
      ]
    },
    {
      "cell_type": "code",
      "execution_count": null,
      "metadata": {
        "colab": {
          "base_uri": "https://localhost:8080/"
        },
        "id": "gJ8-EOp-sazL",
        "outputId": "3bb6741f-b167-465c-bf6f-1875d7c1bf52"
      },
      "outputs": [
        {
          "output_type": "execute_result",
          "data": {
            "text/plain": [
              "{'title': 'Harry Potter and the Prisoner of Azkaban',\n",
              " 'author': 'J.K. Rowling',\n",
              " 'summary': \"Harry Potter, along with his best friends, Ron and Hermione, is about to start his third year at Hogwarts School of Witchcraft and Wizardry. Harry can't wait to get back to school after the summer holidays. (Who wouldn't if they lived with the horrible Dursleys?) But when Harry gets to Hogwarts, the atmosphere is tense. There's an escaped mass murderer on the loose, and the sinister prison guards of Azkaban have been called in to guard the school...\",\n",
              " 'image': 'https://i.gr-assets.com/images/S/compressed.photo.goodreads.com/books/1630547330l/5._SY475_.jpg',\n",
              " 'cosine': array([  50,   44, 3320, 3336,  828, 4564, 4072, 1200, 2491, 1453, 2322,\n",
              "        1220, 3155, 4183,   69, 2716, 4780, 4239, 4601, 3897])}"
            ]
          },
          "metadata": {},
          "execution_count": 20
        }
      ],
      "source": [
        "clean_full[29]"
      ]
    },
    {
      "cell_type": "code",
      "execution_count": null,
      "metadata": {
        "id": "pazAZXtMsg37"
      },
      "outputs": [],
      "source": [
        "# save the data\n",
        "import pickle\n",
        "\n",
        "with open('clean_full_cosine.pkl', 'wb') as f:\n",
        "    pickle.dump(clean_full, f)"
      ]
    },
    {
      "cell_type": "code",
      "execution_count": null,
      "metadata": {
        "id": "icAvpocjPSzU",
        "colab": {
          "base_uri": "https://localhost:8080/"
        },
        "outputId": "93731021-192a-4633-b5c0-d7b15c0086a0"
      },
      "outputs": [
        {
          "output_type": "stream",
          "name": "stdout",
          "text": [
            "Harry Potter and the Chamber of Secrets\n",
            "Harry Potter and the Half-Blood Prince\n",
            "Harry Potter Boxed Set, Books 1-5 (Harry Potter, #1-5)\n",
            "James Potter and the Hall of Elders' Crossing\n",
            "The Harry Potter Collection 1-4\n",
            "Harry Potter: Film Wizardry\n",
            "The Last Coyote\n",
            "Dead Beat\n",
            "Small Favor\n",
            "Fantastic Beasts and Where to Find Them: The Original Screenplay\n",
            "White Night\n",
            "Summer Knight\n",
            "So You Want to Be a Wizard\n",
            "Phantom\n",
            "The Battle of the Labyrinth\n",
            "The Leopard\n",
            "The Soulforge\n",
            "DragonQuest\n",
            "The Heaven Tree Trilogy\n",
            "The Wiccan Diaries\n"
          ]
        }
      ],
      "source": [
        "# Get recommendation\n",
        "for i in clean_full[29]['cosine']:\n",
        "  print(clean_full[i]['title'])"
      ]
    },
    {
      "cell_type": "code",
      "source": [],
      "metadata": {
        "id": "uIaMJ-dDnLTl"
      },
      "execution_count": null,
      "outputs": []
    }
  ],
  "metadata": {
    "colab": {
      "collapsed_sections": [],
      "provenance": []
    },
    "kernelspec": {
      "display_name": "Python 3",
      "name": "python3"
    },
    "language_info": {
      "name": "python"
    }
  },
  "nbformat": 4,
  "nbformat_minor": 0
}